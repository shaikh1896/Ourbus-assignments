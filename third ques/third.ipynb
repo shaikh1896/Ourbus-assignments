{
 "cells": [
  {
   "cell_type": "code",
   "execution_count": 98,
   "id": "3a8aba88",
   "metadata": {},
   "outputs": [],
   "source": [
    "# importing important libraries\n",
    "import pandas as pd\n",
    "pd.set_option('max_columns', None)\n",
    "import numpy as np\n",
    "import matplotlib.pyplot as plt\n",
    "import seaborn as sns\n",
    "\n",
    "from sklearn.model_selection import train_test_split\n",
    "\n",
    "from sklearn.linear_model import LinearRegression\n",
    "from sklearn.ensemble import RandomForestRegressor\n",
    "\n",
    "from sklearn.metrics import confusion_matrix\n",
    "from sklearn.ensemble import ExtraTreesRegressor\n",
    "\n",
    "\n"
   ]
  },
  {
   "cell_type": "code",
   "execution_count": 8,
   "id": "7703b868",
   "metadata": {},
   "outputs": [
    {
     "data": {
      "text/html": [
       "<div>\n",
       "<style scoped>\n",
       "    .dataframe tbody tr th:only-of-type {\n",
       "        vertical-align: middle;\n",
       "    }\n",
       "\n",
       "    .dataframe tbody tr th {\n",
       "        vertical-align: top;\n",
       "    }\n",
       "\n",
       "    .dataframe thead th {\n",
       "        text-align: right;\n",
       "    }\n",
       "</style>\n",
       "<table border=\"1\" class=\"dataframe\">\n",
       "  <thead>\n",
       "    <tr style=\"text-align: right;\">\n",
       "      <th></th>\n",
       "      <th>order_no</th>\n",
       "      <th>discount_amount</th>\n",
       "      <th>adults</th>\n",
       "      <th>booking_fee</th>\n",
       "      <th>paid_from_wallet</th>\n",
       "      <th>order_time</th>\n",
       "      <th>source</th>\n",
       "      <th>isRelease</th>\n",
       "      <th>trip_type</th>\n",
       "      <th>leg_name</th>\n",
       "      <th>commission</th>\n",
       "      <th>departure_time</th>\n",
       "      <th>bf_discount</th>\n",
       "      <th>trip_id</th>\n",
       "      <th>isCancel</th>\n",
       "      <th>net_revenue</th>\n",
       "      <th>base_id</th>\n",
       "      <th>travel_date</th>\n",
       "      <th>ff_discount</th>\n",
       "      <th>facility_fee</th>\n",
       "      <th>amount_in_usd</th>\n",
       "      <th>voucher_consumption</th>\n",
       "      <th>paid_from_card</th>\n",
       "      <th>pick_stop</th>\n",
       "    </tr>\n",
       "  </thead>\n",
       "  <tbody>\n",
       "    <tr>\n",
       "      <th>0</th>\n",
       "      <td>774016</td>\n",
       "      <td>11.25</td>\n",
       "      <td>1</td>\n",
       "      <td>0</td>\n",
       "      <td>0</td>\n",
       "      <td>09-25-2019 3:47:29</td>\n",
       "      <td>WEB</td>\n",
       "      <td>False</td>\n",
       "      <td>C</td>\n",
       "      <td>Kendall Park to NYC Commuter</td>\n",
       "      <td>0</td>\n",
       "      <td>6:25:00 AM</td>\n",
       "      <td>0</td>\n",
       "      <td>16009</td>\n",
       "      <td>False</td>\n",
       "      <td>0.0</td>\n",
       "      <td>294729</td>\n",
       "      <td>09-25-2019</td>\n",
       "      <td>0</td>\n",
       "      <td>0</td>\n",
       "      <td>11.25</td>\n",
       "      <td>0</td>\n",
       "      <td>0.0</td>\n",
       "      <td>Kendall Park Roller Skating Rink</td>\n",
       "    </tr>\n",
       "    <tr>\n",
       "      <th>1</th>\n",
       "      <td>774017</td>\n",
       "      <td>11.25</td>\n",
       "      <td>1</td>\n",
       "      <td>0</td>\n",
       "      <td>0</td>\n",
       "      <td>09-25-2019 3:48:52</td>\n",
       "      <td>WEB</td>\n",
       "      <td>False</td>\n",
       "      <td>C</td>\n",
       "      <td>New York, NY - Kendall Park Commuter</td>\n",
       "      <td>0</td>\n",
       "      <td>5:30:00 PM</td>\n",
       "      <td>0</td>\n",
       "      <td>310958</td>\n",
       "      <td>False</td>\n",
       "      <td>0.0</td>\n",
       "      <td>294729</td>\n",
       "      <td>09-25-2019</td>\n",
       "      <td>0</td>\n",
       "      <td>0</td>\n",
       "      <td>11.25</td>\n",
       "      <td>0</td>\n",
       "      <td>0.0</td>\n",
       "      <td>Times Square</td>\n",
       "    </tr>\n",
       "    <tr>\n",
       "      <th>2</th>\n",
       "      <td>774027</td>\n",
       "      <td>10.25</td>\n",
       "      <td>1</td>\n",
       "      <td>0</td>\n",
       "      <td>0</td>\n",
       "      <td>09-25-2019 5:24:09</td>\n",
       "      <td>IOS</td>\n",
       "      <td>False</td>\n",
       "      <td>C</td>\n",
       "      <td>Kendall Park to NYC Commuter</td>\n",
       "      <td>0</td>\n",
       "      <td>6:25:00 AM</td>\n",
       "      <td>0</td>\n",
       "      <td>16009</td>\n",
       "      <td>False</td>\n",
       "      <td>0.0</td>\n",
       "      <td>1338</td>\n",
       "      <td>09-25-2019</td>\n",
       "      <td>0</td>\n",
       "      <td>0</td>\n",
       "      <td>10.25</td>\n",
       "      <td>0</td>\n",
       "      <td>0.0</td>\n",
       "      <td>Kendall Park Roller Skating Rink</td>\n",
       "    </tr>\n",
       "    <tr>\n",
       "      <th>3</th>\n",
       "      <td>774027</td>\n",
       "      <td>10.25</td>\n",
       "      <td>1</td>\n",
       "      <td>0</td>\n",
       "      <td>0</td>\n",
       "      <td>09-25-2019 5:24:09</td>\n",
       "      <td>IOS</td>\n",
       "      <td>False</td>\n",
       "      <td>C</td>\n",
       "      <td>New York, NY - Kendall Park Commuter</td>\n",
       "      <td>0</td>\n",
       "      <td>5:30:00 PM</td>\n",
       "      <td>0</td>\n",
       "      <td>310958</td>\n",
       "      <td>False</td>\n",
       "      <td>0.0</td>\n",
       "      <td>1338</td>\n",
       "      <td>09-25-2019</td>\n",
       "      <td>0</td>\n",
       "      <td>0</td>\n",
       "      <td>10.25</td>\n",
       "      <td>0</td>\n",
       "      <td>0.0</td>\n",
       "      <td>Kendall Park Roller Skating Rink</td>\n",
       "    </tr>\n",
       "    <tr>\n",
       "      <th>4</th>\n",
       "      <td>774029</td>\n",
       "      <td>11.25</td>\n",
       "      <td>1</td>\n",
       "      <td>0</td>\n",
       "      <td>0</td>\n",
       "      <td>09-25-2019 5:38:44</td>\n",
       "      <td>WEB</td>\n",
       "      <td>False</td>\n",
       "      <td>C</td>\n",
       "      <td>Kendall Park to NYC Commuter</td>\n",
       "      <td>0</td>\n",
       "      <td>6:25:00 AM</td>\n",
       "      <td>0</td>\n",
       "      <td>16009</td>\n",
       "      <td>False</td>\n",
       "      <td>0.0</td>\n",
       "      <td>35</td>\n",
       "      <td>09-25-2019</td>\n",
       "      <td>0</td>\n",
       "      <td>0</td>\n",
       "      <td>11.25</td>\n",
       "      <td>0</td>\n",
       "      <td>0.0</td>\n",
       "      <td>Kendall Park Post Office</td>\n",
       "    </tr>\n",
       "  </tbody>\n",
       "</table>\n",
       "</div>"
      ],
      "text/plain": [
       "   order_no  discount_amount  adults  booking_fee  paid_from_wallet  \\\n",
       "0    774016            11.25       1            0                 0   \n",
       "1    774017            11.25       1            0                 0   \n",
       "2    774027            10.25       1            0                 0   \n",
       "3    774027            10.25       1            0                 0   \n",
       "4    774029            11.25       1            0                 0   \n",
       "\n",
       "           order_time source  isRelease trip_type  \\\n",
       "0  09-25-2019 3:47:29    WEB      False         C   \n",
       "1  09-25-2019 3:48:52    WEB      False         C   \n",
       "2  09-25-2019 5:24:09    IOS      False         C   \n",
       "3  09-25-2019 5:24:09    IOS      False         C   \n",
       "4  09-25-2019 5:38:44    WEB      False         C   \n",
       "\n",
       "                               leg_name  commission departure_time  \\\n",
       "0          Kendall Park to NYC Commuter           0     6:25:00 AM   \n",
       "1  New York, NY - Kendall Park Commuter           0     5:30:00 PM   \n",
       "2          Kendall Park to NYC Commuter           0     6:25:00 AM   \n",
       "3  New York, NY - Kendall Park Commuter           0     5:30:00 PM   \n",
       "4          Kendall Park to NYC Commuter           0     6:25:00 AM   \n",
       "\n",
       "   bf_discount  trip_id  isCancel  net_revenue  base_id travel_date  \\\n",
       "0            0    16009     False          0.0   294729  09-25-2019   \n",
       "1            0   310958     False          0.0   294729  09-25-2019   \n",
       "2            0    16009     False          0.0     1338  09-25-2019   \n",
       "3            0   310958     False          0.0     1338  09-25-2019   \n",
       "4            0    16009     False          0.0       35  09-25-2019   \n",
       "\n",
       "   ff_discount  facility_fee  amount_in_usd  voucher_consumption  \\\n",
       "0            0             0          11.25                    0   \n",
       "1            0             0          11.25                    0   \n",
       "2            0             0          10.25                    0   \n",
       "3            0             0          10.25                    0   \n",
       "4            0             0          11.25                    0   \n",
       "\n",
       "   paid_from_card                         pick_stop  \n",
       "0             0.0  Kendall Park Roller Skating Rink  \n",
       "1             0.0                      Times Square  \n",
       "2             0.0  Kendall Park Roller Skating Rink  \n",
       "3             0.0  Kendall Park Roller Skating Rink  \n",
       "4             0.0          Kendall Park Post Office  "
      ]
     },
     "execution_count": 8,
     "metadata": {},
     "output_type": "execute_result"
    }
   ],
   "source": [
    "data = pd.read_csv('Data Scientist Interview Assignment - TicketReport_2019-09-25 (1).csv')\n",
    "data.head()"
   ]
  },
  {
   "cell_type": "code",
   "execution_count": 9,
   "id": "48b6a703",
   "metadata": {},
   "outputs": [
    {
     "name": "stdout",
     "output_type": "stream",
     "text": [
      "<class 'pandas.core.frame.DataFrame'>\n",
      "RangeIndex: 270 entries, 0 to 269\n",
      "Data columns (total 24 columns):\n",
      " #   Column               Non-Null Count  Dtype  \n",
      "---  ------               --------------  -----  \n",
      " 0   order_no             270 non-null    int64  \n",
      " 1   discount_amount      270 non-null    float64\n",
      " 2   adults               270 non-null    int64  \n",
      " 3   booking_fee          270 non-null    int64  \n",
      " 4   paid_from_wallet     270 non-null    int64  \n",
      " 5   order_time           270 non-null    object \n",
      " 6   source               270 non-null    object \n",
      " 7   isRelease            270 non-null    bool   \n",
      " 8   trip_type            270 non-null    object \n",
      " 9   leg_name             270 non-null    object \n",
      " 10  commission           270 non-null    int64  \n",
      " 11  departure_time       270 non-null    object \n",
      " 12  bf_discount          270 non-null    int64  \n",
      " 13  trip_id              270 non-null    int64  \n",
      " 14  isCancel             270 non-null    bool   \n",
      " 15  net_revenue          270 non-null    float64\n",
      " 16  base_id              270 non-null    int64  \n",
      " 17  travel_date          270 non-null    object \n",
      " 18  ff_discount          270 non-null    int64  \n",
      " 19  facility_fee         270 non-null    int64  \n",
      " 20  amount_in_usd        270 non-null    float64\n",
      " 21  voucher_consumption  270 non-null    int64  \n",
      " 22  paid_from_card       270 non-null    float64\n",
      " 23  pick_stop            270 non-null    object \n",
      "dtypes: bool(2), float64(4), int64(11), object(7)\n",
      "memory usage: 47.1+ KB\n"
     ]
    }
   ],
   "source": [
    "data.info()"
   ]
  },
  {
   "cell_type": "code",
   "execution_count": 10,
   "id": "1a11d751",
   "metadata": {},
   "outputs": [
    {
     "data": {
      "text/plain": [
       "order_no               0\n",
       "discount_amount        0\n",
       "adults                 0\n",
       "booking_fee            0\n",
       "paid_from_wallet       0\n",
       "order_time             0\n",
       "source                 0\n",
       "isRelease              0\n",
       "trip_type              0\n",
       "leg_name               0\n",
       "commission             0\n",
       "departure_time         0\n",
       "bf_discount            0\n",
       "trip_id                0\n",
       "isCancel               0\n",
       "net_revenue            0\n",
       "base_id                0\n",
       "travel_date            0\n",
       "ff_discount            0\n",
       "facility_fee           0\n",
       "amount_in_usd          0\n",
       "voucher_consumption    0\n",
       "paid_from_card         0\n",
       "pick_stop              0\n",
       "dtype: int64"
      ]
     },
     "execution_count": 10,
     "metadata": {},
     "output_type": "execute_result"
    }
   ],
   "source": [
    "data.isna().sum()"
   ]
  },
  {
   "cell_type": "markdown",
   "id": "60fede2f",
   "metadata": {},
   "source": [
    "# Preprocessing the data\n",
    "We will be preprocessng our data where we will add columns, remove unnessary columns"
   ]
  },
  {
   "cell_type": "code",
   "execution_count": 11,
   "id": "410b77a7",
   "metadata": {},
   "outputs": [],
   "source": [
    "# now drop unnecessay columns\n",
    "def preprocess_inputs(df):\n",
    "    df = df.copy()\n",
    "    \n",
    "    # Add day column out of order time\n",
    "    df['day'] = df['order_time'].str[3:5]\n",
    "    \n",
    "    \n",
    "    \n",
    "    # converting day column into int type\n",
    "    df['day'] = df['day'].astype('int32')\n",
    "    \n",
    "    '''drop unnecessary columns like order_no, order time(as we have got our day), vouchers_consumed,facility_fee,ff_discount,\n",
    "    bf_discount,commission,isRelease,booking_fee as these column has only one unique values'''\n",
    "    \n",
    "    '''Assuming the once the customer books a trip he will surely trave, by this assumption we can drop travel_date column\n",
    "    and this assumption also get strong by analysing the isCancel column which only has false value meaning that customer has \n",
    "    never cancel a flight'''\n",
    "    \n",
    "    '''As trip_type column has only one value that is 'C' so i am assuming that only one type of trip is present and we can drop \n",
    "    this column as well'''\n",
    "    \n",
    "    '''As no customer has paid from wallet so we can drop this column as it only has one value i.e 0'''\n",
    "    \n",
    "    \n",
    "    df = df.drop('voucher_consumption', axis = 1)\n",
    "    df = df.drop('facility_fee', axis = 1)\n",
    "    df = df.drop('ff_discount', axis = 1)\n",
    "    df = df.drop('order_no', axis = 1)\n",
    "    df = df.drop('trip_type', axis = 1)\n",
    "    df = df.drop('isRelease', axis = 1)\n",
    "    df = df.drop('commission', axis = 1)\n",
    "    df = df.drop('bf_discount', axis = 1)\n",
    "    df = df.drop('travel_date', axis = 1)\n",
    "    df = df.drop('isCancel', axis = 1)\n",
    "    df = df.drop('booking_fee', axis = 1)\n",
    "    df = df.drop('paid_from_wallet', axis = 1)\n",
    "    df = df.drop('order_time', axis = 1)\n",
    "    \n",
    "    # ordinal encoding\n",
    "    '''We can encode source,leg_name,departure_time,pick_stop'''\n",
    "    \n",
    "    df['source'] = df['source'].replace({'WEB': 0, 'IOS': 1, 'ANDROID':2})\n",
    "    df['leg_name'] = df['leg_name'].replace({'Kendall Park to NYC Commuter': 0, 'New York, NY - Kendall Park Commuter': 1})\n",
    "    df['pick_stop'] = df['pick_stop'].replace({'Kendall Park Roller Skating Rink':0, 'Times Square':1,\n",
    "                                               'Kendall Park Post Office':2,'Green Hill Manor Club House':3,\n",
    "                                                'Stillwell Road':4,'Ninth Ave & 42nd Stret':5})\n",
    "    \n",
    "    df['departure_time'] = df['departure_time'].replace({'6:25:00 AM':0,'6:40:00 AM':1,'6:55:00 AM':2,'5:30:00 PM':3})\n",
    "    \n",
    "    \n",
    "    return df"
   ]
  },
  {
   "cell_type": "code",
   "execution_count": 12,
   "id": "23e374bb",
   "metadata": {},
   "outputs": [
    {
     "data": {
      "text/html": [
       "<div>\n",
       "<style scoped>\n",
       "    .dataframe tbody tr th:only-of-type {\n",
       "        vertical-align: middle;\n",
       "    }\n",
       "\n",
       "    .dataframe tbody tr th {\n",
       "        vertical-align: top;\n",
       "    }\n",
       "\n",
       "    .dataframe thead th {\n",
       "        text-align: right;\n",
       "    }\n",
       "</style>\n",
       "<table border=\"1\" class=\"dataframe\">\n",
       "  <thead>\n",
       "    <tr style=\"text-align: right;\">\n",
       "      <th></th>\n",
       "      <th>discount_amount</th>\n",
       "      <th>adults</th>\n",
       "      <th>source</th>\n",
       "      <th>leg_name</th>\n",
       "      <th>departure_time</th>\n",
       "      <th>trip_id</th>\n",
       "      <th>net_revenue</th>\n",
       "      <th>base_id</th>\n",
       "      <th>amount_in_usd</th>\n",
       "      <th>paid_from_card</th>\n",
       "      <th>pick_stop</th>\n",
       "      <th>day</th>\n",
       "    </tr>\n",
       "  </thead>\n",
       "  <tbody>\n",
       "    <tr>\n",
       "      <th>0</th>\n",
       "      <td>11.25</td>\n",
       "      <td>1</td>\n",
       "      <td>0</td>\n",
       "      <td>0</td>\n",
       "      <td>0</td>\n",
       "      <td>16009</td>\n",
       "      <td>0.0</td>\n",
       "      <td>294729</td>\n",
       "      <td>11.25</td>\n",
       "      <td>0.0</td>\n",
       "      <td>0</td>\n",
       "      <td>25</td>\n",
       "    </tr>\n",
       "    <tr>\n",
       "      <th>1</th>\n",
       "      <td>11.25</td>\n",
       "      <td>1</td>\n",
       "      <td>0</td>\n",
       "      <td>1</td>\n",
       "      <td>3</td>\n",
       "      <td>310958</td>\n",
       "      <td>0.0</td>\n",
       "      <td>294729</td>\n",
       "      <td>11.25</td>\n",
       "      <td>0.0</td>\n",
       "      <td>1</td>\n",
       "      <td>25</td>\n",
       "    </tr>\n",
       "    <tr>\n",
       "      <th>2</th>\n",
       "      <td>10.25</td>\n",
       "      <td>1</td>\n",
       "      <td>1</td>\n",
       "      <td>0</td>\n",
       "      <td>0</td>\n",
       "      <td>16009</td>\n",
       "      <td>0.0</td>\n",
       "      <td>1338</td>\n",
       "      <td>10.25</td>\n",
       "      <td>0.0</td>\n",
       "      <td>0</td>\n",
       "      <td>25</td>\n",
       "    </tr>\n",
       "    <tr>\n",
       "      <th>3</th>\n",
       "      <td>10.25</td>\n",
       "      <td>1</td>\n",
       "      <td>1</td>\n",
       "      <td>1</td>\n",
       "      <td>3</td>\n",
       "      <td>310958</td>\n",
       "      <td>0.0</td>\n",
       "      <td>1338</td>\n",
       "      <td>10.25</td>\n",
       "      <td>0.0</td>\n",
       "      <td>0</td>\n",
       "      <td>25</td>\n",
       "    </tr>\n",
       "    <tr>\n",
       "      <th>4</th>\n",
       "      <td>11.25</td>\n",
       "      <td>1</td>\n",
       "      <td>0</td>\n",
       "      <td>0</td>\n",
       "      <td>0</td>\n",
       "      <td>16009</td>\n",
       "      <td>0.0</td>\n",
       "      <td>35</td>\n",
       "      <td>11.25</td>\n",
       "      <td>0.0</td>\n",
       "      <td>2</td>\n",
       "      <td>25</td>\n",
       "    </tr>\n",
       "  </tbody>\n",
       "</table>\n",
       "</div>"
      ],
      "text/plain": [
       "   discount_amount  adults  source  leg_name  departure_time  trip_id  \\\n",
       "0            11.25       1       0         0               0    16009   \n",
       "1            11.25       1       0         1               3   310958   \n",
       "2            10.25       1       1         0               0    16009   \n",
       "3            10.25       1       1         1               3   310958   \n",
       "4            11.25       1       0         0               0    16009   \n",
       "\n",
       "   net_revenue  base_id  amount_in_usd  paid_from_card  pick_stop  day  \n",
       "0          0.0   294729          11.25             0.0          0   25  \n",
       "1          0.0   294729          11.25             0.0          1   25  \n",
       "2          0.0     1338          10.25             0.0          0   25  \n",
       "3          0.0     1338          10.25             0.0          0   25  \n",
       "4          0.0       35          11.25             0.0          2   25  "
      ]
     },
     "execution_count": 12,
     "metadata": {},
     "output_type": "execute_result"
    }
   ],
   "source": [
    "updated_data = preprocess_inputs(data)\n",
    "updated_data.head()"
   ]
  },
  {
   "cell_type": "code",
   "execution_count": 13,
   "id": "77f75f68",
   "metadata": {},
   "outputs": [
    {
     "data": {
      "image/png": "[encoded data removed]",
      "text/plain": [
       "<Figure size 1440x1440 with 2 Axes>"
      ]
     },
     "metadata": {
      "needs_background": "light"
     },
     "output_type": "display_data"
    }
   ],
   "source": [
    "#correlations of each features in dataset\n",
    "corrmat = updated_data.corr()\n",
    "top_corr_features = corrmat.index\n",
    "plt.figure(figsize=(20,20))\n",
    "#plot heat map\n",
    "g=sns.heatmap(updated_data[top_corr_features].corr(),annot=True,cmap=\"RdYlGn\")"
   ]
  },
  {
   "cell_type": "code",
   "execution_count": 4,
   "id": "e9bc3e1b",
   "metadata": {},
   "outputs": [
    {
     "name": "stdout",
     "output_type": "stream",
     "text": [
      "Collecting klib\n",
      "  Downloading klib-0.2.0-py3-none-any.whl (28 kB)\n",
      "Requirement already satisfied: seaborn>=0.11.1 in d:\\anaconda\\lib\\site-packages (from klib) (0.11.1)\n",
      "Requirement already satisfied: scipy>=1.0.0 in d:\\anaconda\\lib\\site-packages (from klib) (1.6.2)\n",
      "Requirement already satisfied: scikit-learn>=0.23 in d:\\anaconda\\lib\\site-packages (from klib) (0.24.1)\n",
      "Requirement already satisfied: numpy>=1.15.4 in d:\\anaconda\\lib\\site-packages (from klib) (1.19.1)\n",
      "Requirement already satisfied: pandas>=1.1 in d:\\anaconda\\lib\\site-packages (from klib) (1.2.4)\n",
      "Requirement already satisfied: matplotlib>=3.0.3 in d:\\anaconda\\lib\\site-packages (from klib) (3.3.4)\n",
      "Requirement already satisfied: cycler>=0.10 in d:\\anaconda\\lib\\site-packages (from matplotlib>=3.0.3->klib) (0.10.0)\n",
      "Requirement already satisfied: pyparsing!=2.0.4,!=2.1.2,!=2.1.6,>=2.0.3 in d:\\anaconda\\lib\\site-packages (from matplotlib>=3.0.3->klib) (2.4.7)\n",
      "Requirement already satisfied: python-dateutil>=2.1 in d:\\anaconda\\lib\\site-packages (from matplotlib>=3.0.3->klib) (2.8.1)\n",
      "Requirement already satisfied: kiwisolver>=1.0.1 in d:\\anaconda\\lib\\site-packages (from matplotlib>=3.0.3->klib) (1.3.1)\n",
      "Requirement already satisfied: pillow>=6.2.0 in d:\\anaconda\\lib\\site-packages (from matplotlib>=3.0.3->klib) (8.2.0)\n",
      "Requirement already satisfied: six in d:\\anaconda\\lib\\site-packages (from cycler>=0.10->matplotlib>=3.0.3->klib) (1.15.0)\n",
      "Requirement already satisfied: pytz>=2017.3 in d:\\anaconda\\lib\\site-packages (from pandas>=1.1->klib) (2021.1)\n",
      "Requirement already satisfied: joblib>=0.11 in d:\\anaconda\\lib\\site-packages (from scikit-learn>=0.23->klib) (1.0.1)\n",
      "Requirement already satisfied: threadpoolctl>=2.0.0 in d:\\anaconda\\lib\\site-packages (from scikit-learn>=0.23->klib) (2.1.0)\n",
      "Installing collected packages: klib\n",
      "Successfully installed klib-0.2.0\n"
     ]
    },
    {
     "name": "stderr",
     "output_type": "stream",
     "text": [
      "WARNING: You are using pip version 21.1.3; however, version 21.2.4 is available.\n",
      "You should consider upgrading via the 'D:\\anaconda\\python.exe -m pip install --upgrade pip' command.\n"
     ]
    }
   ],
   "source": [
    "!pip install klib\n",
    "import klib"
   ]
  },
  {
   "cell_type": "code",
   "execution_count": 16,
   "id": "5383f114",
   "metadata": {},
   "outputs": [
    {
     "data": {
      "text/plain": [
       "<AxesSubplot:title={'center':'Feature-correlation (pearson)'}>"
      ]
     },
     "execution_count": 16,
     "metadata": {},
     "output_type": "execute_result"
    },
    {
     "data": {
      "image/png": "[encoded data removed]",
      "text/plain": [
       "<Figure size 864x720 with 2 Axes>"
      ]
     },
     "metadata": {
      "needs_background": "light"
     },
     "output_type": "display_data"
    }
   ],
   "source": [
    "klib.corr_plot(updated_data, target='net_revenue')"
   ]
  },
  {
   "cell_type": "markdown",
   "id": "25a31851",
   "metadata": {},
   "source": [
    "As it can be seen that trip id, departure time, has lowest correlation with net revenue so its better to drop them."
   ]
  },
  {
   "cell_type": "markdown",
   "id": "fd8a3345",
   "metadata": {},
   "source": [
    "# Splitting the data into train and test data"
   ]
  },
  {
   "cell_type": "code",
   "execution_count": 29,
   "id": "e82ceb01",
   "metadata": {},
   "outputs": [],
   "source": [
    "def preprocess_inputs2(df):\n",
    "    df = df.copy()\n",
    "    \n",
    "    df = df.drop('trip_id', axis = 1)\n",
    "    df = df.drop('departure_time', axis = 1)\n",
    "    \n",
    "    y = df[['net_revenue','adults']]                      #target column\n",
    "    X = df.drop(['net_revenue','adults'], axis=1)\n",
    "    \n",
    "    # split the data\n",
    "    X_train, X_test, y_train, y_test = train_test_split(X, y, train_size=0.7, shuffle=True, random_state=1)\n",
    "   \n",
    "    return X_train, X_test, y_train, y_test"
   ]
  },
  {
   "cell_type": "code",
   "execution_count": 31,
   "id": "ac23c690",
   "metadata": {},
   "outputs": [],
   "source": [
    "X_train, X_test, y_train, y_test = preprocess_inputs2(updated_data)"
   ]
  },
  {
   "cell_type": "markdown",
   "id": "5798f5a1",
   "metadata": {},
   "source": [
    "# Model selection\n",
    "As it seems to be a regression type of problem that is we have to find revenue per day, so we can start with simple model like linear regression"
   ]
  },
  {
   "cell_type": "code",
   "execution_count": 83,
   "id": "399e3c39",
   "metadata": {},
   "outputs": [
    {
     "name": "stdout",
     "output_type": "stream",
     "text": [
      "LinearRegression() trained\n",
      "RandomForestRegressor() trained\n"
     ]
    }
   ],
   "source": [
    "models = [\n",
    "    LinearRegression(),\n",
    "    RandomForestRegressor()\n",
    "]\n",
    "    \n",
    "for model in models:\n",
    "    model.fit(X_train,y_train)\n",
    "    print(f'{model} trained')"
   ]
  },
  {
   "cell_type": "code",
   "execution_count": 84,
   "id": "b1b5d3ee",
   "metadata": {},
   "outputs": [
    {
     "name": "stdout",
     "output_type": "stream",
     "text": [
      "         LinearRegression: 50.0000%\n",
      "         Random Forest: 99.9082%\n"
     ]
    }
   ],
   "source": [
    "model_names = [\n",
    "    \"         LinearRegression\",\n",
    "    \"         Random Forest\",\n",
    "]\n",
    "\n",
    "for model, name in zip(models, model_names):\n",
    "    print(name + \": {:.4f}%\".format(model.score(X_test, y_test) * 100))"
   ]
  },
  {
   "cell_type": "markdown",
   "id": "95993dd3",
   "metadata": {},
   "source": [
    "# We are getting best accuracy with random forest regressor model.\n",
    "so will be using this model for training"
   ]
  },
  {
   "cell_type": "code",
   "execution_count": 95,
   "id": "eee37d02",
   "metadata": {},
   "outputs": [
    {
     "data": {
      "text/plain": [
       "RandomForestRegressor()"
      ]
     },
     "execution_count": 95,
     "metadata": {},
     "output_type": "execute_result"
    }
   ],
   "source": [
    "model = RandomForestRegressor()\n",
    "model.fit(X_train,y_train)"
   ]
  },
  {
   "cell_type": "code",
   "execution_count": 87,
   "id": "5909ceca",
   "metadata": {},
   "outputs": [
    {
     "data": {
      "text/html": [
       "<div>\n",
       "<style scoped>\n",
       "    .dataframe tbody tr th:only-of-type {\n",
       "        vertical-align: middle;\n",
       "    }\n",
       "\n",
       "    .dataframe tbody tr th {\n",
       "        vertical-align: top;\n",
       "    }\n",
       "\n",
       "    .dataframe thead th {\n",
       "        text-align: right;\n",
       "    }\n",
       "</style>\n",
       "<table border=\"1\" class=\"dataframe\">\n",
       "  <thead>\n",
       "    <tr style=\"text-align: right;\">\n",
       "      <th></th>\n",
       "      <th>discount_amount</th>\n",
       "      <th>source</th>\n",
       "      <th>leg_name</th>\n",
       "      <th>base_id</th>\n",
       "      <th>amount_in_usd</th>\n",
       "      <th>paid_from_card</th>\n",
       "      <th>pick_stop</th>\n",
       "      <th>day</th>\n",
       "    </tr>\n",
       "  </thead>\n",
       "  <tbody>\n",
       "    <tr>\n",
       "      <th>12</th>\n",
       "      <td>10.25</td>\n",
       "      <td>2</td>\n",
       "      <td>1</td>\n",
       "      <td>100</td>\n",
       "      <td>10.25</td>\n",
       "      <td>0.00</td>\n",
       "      <td>0</td>\n",
       "      <td>25</td>\n",
       "    </tr>\n",
       "    <tr>\n",
       "      <th>221</th>\n",
       "      <td>11.25</td>\n",
       "      <td>1</td>\n",
       "      <td>0</td>\n",
       "      <td>343</td>\n",
       "      <td>11.25</td>\n",
       "      <td>0.00</td>\n",
       "      <td>0</td>\n",
       "      <td>27</td>\n",
       "    </tr>\n",
       "    <tr>\n",
       "      <th>51</th>\n",
       "      <td>11.25</td>\n",
       "      <td>1</td>\n",
       "      <td>0</td>\n",
       "      <td>343</td>\n",
       "      <td>11.25</td>\n",
       "      <td>0.00</td>\n",
       "      <td>0</td>\n",
       "      <td>25</td>\n",
       "    </tr>\n",
       "    <tr>\n",
       "      <th>147</th>\n",
       "      <td>0.00</td>\n",
       "      <td>1</td>\n",
       "      <td>0</td>\n",
       "      <td>308742</td>\n",
       "      <td>11.25</td>\n",
       "      <td>11.25</td>\n",
       "      <td>0</td>\n",
       "      <td>26</td>\n",
       "    </tr>\n",
       "    <tr>\n",
       "      <th>145</th>\n",
       "      <td>11.25</td>\n",
       "      <td>1</td>\n",
       "      <td>0</td>\n",
       "      <td>1289</td>\n",
       "      <td>11.25</td>\n",
       "      <td>0.00</td>\n",
       "      <td>2</td>\n",
       "      <td>26</td>\n",
       "    </tr>\n",
       "  </tbody>\n",
       "</table>\n",
       "</div>"
      ],
      "text/plain": [
       "     discount_amount  source  leg_name  base_id  amount_in_usd  \\\n",
       "12             10.25       2         1      100          10.25   \n",
       "221            11.25       1         0      343          11.25   \n",
       "51             11.25       1         0      343          11.25   \n",
       "147             0.00       1         0   308742          11.25   \n",
       "145            11.25       1         0     1289          11.25   \n",
       "\n",
       "     paid_from_card  pick_stop  day  \n",
       "12             0.00          0   25  \n",
       "221            0.00          0   27  \n",
       "51             0.00          0   25  \n",
       "147           11.25          0   26  \n",
       "145            0.00          2   26  "
      ]
     },
     "execution_count": 87,
     "metadata": {},
     "output_type": "execute_result"
    }
   ],
   "source": [
    "X_test.head()"
   ]
  },
  {
   "cell_type": "code",
   "execution_count": 90,
   "id": "b5ba9abf",
   "metadata": {},
   "outputs": [
    {
     "data": {
      "text/html": [
       "<div>\n",
       "<style scoped>\n",
       "    .dataframe tbody tr th:only-of-type {\n",
       "        vertical-align: middle;\n",
       "    }\n",
       "\n",
       "    .dataframe tbody tr th {\n",
       "        vertical-align: top;\n",
       "    }\n",
       "\n",
       "    .dataframe thead th {\n",
       "        text-align: right;\n",
       "    }\n",
       "</style>\n",
       "<table border=\"1\" class=\"dataframe\">\n",
       "  <thead>\n",
       "    <tr style=\"text-align: right;\">\n",
       "      <th></th>\n",
       "      <th>discount_amount</th>\n",
       "      <th>source</th>\n",
       "      <th>leg_name</th>\n",
       "      <th>base_id</th>\n",
       "      <th>amount_in_usd</th>\n",
       "      <th>paid_from_card</th>\n",
       "      <th>pick_stop</th>\n",
       "      <th>day</th>\n",
       "    </tr>\n",
       "  </thead>\n",
       "  <tbody>\n",
       "    <tr>\n",
       "      <th>221</th>\n",
       "      <td>11.25</td>\n",
       "      <td>1</td>\n",
       "      <td>0</td>\n",
       "      <td>343</td>\n",
       "      <td>11.25</td>\n",
       "      <td>0.0</td>\n",
       "      <td>0</td>\n",
       "      <td>27</td>\n",
       "    </tr>\n",
       "  </tbody>\n",
       "</table>\n",
       "</div>"
      ],
      "text/plain": [
       "     discount_amount  source  leg_name  base_id  amount_in_usd  \\\n",
       "221            11.25       1         0      343          11.25   \n",
       "\n",
       "     paid_from_card  pick_stop  day  \n",
       "221             0.0          0   27  "
      ]
     },
     "execution_count": 90,
     "metadata": {},
     "output_type": "execute_result"
    }
   ],
   "source": [
    "X_test[1:2]"
   ]
  },
  {
   "cell_type": "code",
   "execution_count": 109,
   "id": "d0b34a96",
   "metadata": {},
   "outputs": [
    {
     "data": {
      "text/html": [
       "<div>\n",
       "<style scoped>\n",
       "    .dataframe tbody tr th:only-of-type {\n",
       "        vertical-align: middle;\n",
       "    }\n",
       "\n",
       "    .dataframe tbody tr th {\n",
       "        vertical-align: top;\n",
       "    }\n",
       "\n",
       "    .dataframe thead th {\n",
       "        text-align: right;\n",
       "    }\n",
       "</style>\n",
       "<table border=\"1\" class=\"dataframe\">\n",
       "  <thead>\n",
       "    <tr style=\"text-align: right;\">\n",
       "      <th></th>\n",
       "      <th>net_revenue</th>\n",
       "      <th>adults</th>\n",
       "    </tr>\n",
       "  </thead>\n",
       "  <tbody>\n",
       "    <tr>\n",
       "      <th>0</th>\n",
       "      <td>0.0</td>\n",
       "      <td>1.0</td>\n",
       "    </tr>\n",
       "  </tbody>\n",
       "</table>\n",
       "</div>"
      ],
      "text/plain": [
       "   net_revenue  adults\n",
       "0          0.0     1.0"
      ]
     },
     "execution_count": 109,
     "metadata": {},
     "output_type": "execute_result"
    }
   ],
   "source": [
    "#  prediction on any random val\n",
    "pred = pd.DataFrame(model.predict(X_test[1:2]),columns = ['net_revenue','adults'])\n",
    "pred\n"
   ]
  },
  {
   "cell_type": "code",
   "execution_count": 93,
   "id": "fc4e5246",
   "metadata": {},
   "outputs": [
    {
     "data": {
      "text/plain": [
       "discount_amount        11.25\n",
       "adults                  1.00\n",
       "source                  1.00\n",
       "leg_name                0.00\n",
       "departure_time          1.00\n",
       "trip_id            218631.00\n",
       "net_revenue             0.00\n",
       "base_id               343.00\n",
       "amount_in_usd          11.25\n",
       "paid_from_card          0.00\n",
       "pick_stop               0.00\n",
       "day                    27.00\n",
       "Name: 221, dtype: float64"
      ]
     },
     "execution_count": 93,
     "metadata": {},
     "output_type": "execute_result"
    }
   ],
   "source": [
    "updated_data.loc[221]"
   ]
  },
  {
   "cell_type": "code",
   "execution_count": 94,
   "id": "d353907b",
   "metadata": {},
   "outputs": [
    {
     "data": {
      "text/html": [
       "<div>\n",
       "<style scoped>\n",
       "    .dataframe tbody tr th:only-of-type {\n",
       "        vertical-align: middle;\n",
       "    }\n",
       "\n",
       "    .dataframe tbody tr th {\n",
       "        vertical-align: top;\n",
       "    }\n",
       "\n",
       "    .dataframe thead th {\n",
       "        text-align: right;\n",
       "    }\n",
       "</style>\n",
       "<table border=\"1\" class=\"dataframe\">\n",
       "  <thead>\n",
       "    <tr style=\"text-align: right;\">\n",
       "      <th></th>\n",
       "      <th>net_revenue</th>\n",
       "      <th>adults</th>\n",
       "    </tr>\n",
       "  </thead>\n",
       "  <tbody>\n",
       "    <tr>\n",
       "      <th>221</th>\n",
       "      <td>0.0</td>\n",
       "      <td>1</td>\n",
       "    </tr>\n",
       "  </tbody>\n",
       "</table>\n",
       "</div>"
      ],
      "text/plain": [
       "     net_revenue  adults\n",
       "221          0.0       1"
      ]
     },
     "execution_count": 94,
     "metadata": {},
     "output_type": "execute_result"
    }
   ],
   "source": [
    "y_test[1:2]"
   ]
  },
  {
   "cell_type": "code",
   "execution_count": null,
   "id": "a1e00d0d",
   "metadata": {},
   "outputs": [],
   "source": [
    "# Hence we are getting the same result as the actual ones"
   ]
  }
 ],
 "metadata": {
  "kernelspec": {
   "display_name": "Python 3",
   "language": "python",
   "name": "python3"
  },
  "language_info": {
   "codemirror_mode": {
    "name": "ipython",
    "version": 3
   },
   "file_extension": ".py",
   "mimetype": "text/x-python",
   "name": "python",
   "nbconvert_exporter": "python",
   "pygments_lexer": "ipython3",
   "version": "3.8.8"
  }
 },
 "nbformat": 4,
 "nbformat_minor": 5
}
